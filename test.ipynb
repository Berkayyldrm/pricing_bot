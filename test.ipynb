{
 "cells": [
  {
   "cell_type": "code",
   "execution_count": 8,
   "metadata": {},
   "outputs": [],
   "source": [
    "import pandas as pd\n",
    "import requests"
   ]
  },
  {
   "cell_type": "code",
   "execution_count": 19,
   "metadata": {},
   "outputs": [],
   "source": [
    "data = {\n",
    "    \"philips_makina\": {\"url\": \"https://www.hepsiburada.com/philips-ep5547-90-5500-serisi-tam-otomatik-espresso-makinesi-pm-HBC0000670CO5\",\n",
    "          \"xpath\": \"/html/body/div[2]/div/div/main/div/div/div[2]/section[2]/div[2]/div[3]/div[1]/div/span[1]\"},\n",
    "    \"iphone_13\": {\"url\": \"https://www.hepsiburada.com/iphone-13-128-gb-beyaz-p-HBCV00000ODHHO\",\n",
    "          \"xpath\": \"/html/body/div[2]/div/div/main/div/div/div[2]/section[1]/div[2]/div[3]/div[1]/div/span[1]\"},\n",
    "    \"casper_laptop\": {\"url\": \"https://www.hepsiburada.com/casper-excalibur-g870-1270-dfb0x-b-intel-core-i7-12700h-32gb-1tb-ssd-rtx4060-freedos-15-6-tasinabilir-bilgisayar-pm-HBC00003ZQ9WP\",\n",
    "          \"xpath\": \"/html/body/div[2]/div/div/main/div/div/div[2]/section[2]/div[2]/div[3]/div[1]/div/span[1]\"}\n",
    "}"
   ]
  },
  {
   "cell_type": "code",
   "execution_count": 13,
   "metadata": {},
   "outputs": [],
   "source": [
    "def check_url(url, xpath):\n",
    "    headers = {\n",
    "        \"Accept\": \"text/html,application/xhtml+xml,application/xml;q=0.9,image/avif,image/webp,image/apng,*/*;q=0.8,application/signed-exchange;v=b3;q=0.7\",\n",
    "        \"Accept-Encoding\": \"gzip, deflate, br, zstd\",\n",
    "        \"Accept-Language\": \"tr-TR,tr;q=0.9,en-US;q=0.8,en;q=0.7\",\n",
    "        \"Cache-Control\": \"max-age=0\",\n",
    "        \"User-Agent\": \"Mozilla/5.0 (Windows NT 10.0; Win64; x64) AppleWebKit/537.36 (KHTML, like Gecko) Chrome/131.0.0.0 Safari/537.36\",\n",
    "        \"If-Modified-Since\": \"Fri, 22 Nov 2024 18:10:33 GMT\",\n",
    "    }\n",
    "    cookies = {\n",
    "        \"gcl_au\": \"1.1.581871697.1732298393\",\n",
    "        \"useinternal\": \"true\",\n",
    "        \"_gid\": \"GA1.2.2141075332.1732298393\",\n",
    "        # Ek çerezleri buraya ekleyin\n",
    "    }\n",
    "\n",
    "    response = requests.get(url, headers=headers, cookies=cookies)\n",
    "    print(response.status_code)\n",
    "    soup = BeautifulSoup(response.content, 'html.parser')\n",
    "\n",
    "    # XPath benzeri bir CSS seçici kullanımı\n",
    "    result = soup.select_one(xpath)\n",
    "    return result.text"
   ]
  },
  {
   "cell_type": "code",
   "execution_count": 20,
   "metadata": {},
   "outputs": [],
   "source": [
    "import requests\n",
    "from lxml import html\n",
    "\n",
    "def check_url(url, xpath):\n",
    "    headers = {\n",
    "        \"Accept\": \"text/html,application/xhtml+xml,application/xml;q=0.9,image/avif,image/webp,image/apng,*/*;q=0.8,application/signed-exchange;v=b3;q=0.7\",\n",
    "        \"Accept-Encoding\": \"gzip, deflate, br, zstd\",\n",
    "        \"Accept-Language\": \"tr-TR,tr;q=0.9,en-US;q=0.8,en;q=0.7\",\n",
    "        \"Cache-Control\": \"max-age=0\",\n",
    "        \"User-Agent\": \"Mozilla/5.0 (Windows NT 10.0; Win64; x64) AppleWebKit/537.36 (KHTML, like Gecko) Chrome/131.0.0.0 Safari/537.36\",\n",
    "        \"If-Modified-Since\": \"Fri, 22 Nov 2024 18:10:33 GMT\",\n",
    "    }\n",
    "    cookies = {\n",
    "        \"gcl_au\": \"1.1.581871697.1732298393\",\n",
    "        \"useinternal\": \"true\",\n",
    "        \"_gid\": \"GA1.2.2141075332.1732298393\",\n",
    "        # Ek çerezleri buraya ekleyin\n",
    "    }\n",
    "\n",
    "    response = requests.get(url, headers=headers, cookies=cookies)\n",
    "    print(f\"Status Code: {response.status_code}\")\n",
    "\n",
    "    # HTML'i lxml ile işleme\n",
    "    tree = html.fromstring(response.content)\n",
    "\n",
    "    # XPath'i doğrudan kullanma\n",
    "    try:\n",
    "        result = tree.xpath(xpath)\n",
    "        if result:\n",
    "            # Eğer XPath bir liste dönerse, ilk öğeyi döndür\n",
    "            return result[0].text if hasattr(result[0], 'text') else str(result[0])\n",
    "        else:\n",
    "            return \"XPath sonucu bulunamadı!\"\n",
    "    except Exception as e:\n",
    "        return f\"Hata: {str(e)}\"\n"
   ]
  },
  {
   "cell_type": "code",
   "execution_count": 22,
   "metadata": {},
   "outputs": [
    {
     "name": "stdout",
     "output_type": "stream",
     "text": [
      "philips_makina\n",
      "Status Code: 200\n",
      "Price 20.920,00\n",
      "iphone_13\n",
      "Status Code: 200\n",
      "Price 34.199,00\n",
      "casper_laptop\n",
      "Status Code: 200\n",
      "Price 42.499,00\n"
     ]
    }
   ],
   "source": [
    "for k, v in data.items():\n",
    "    print(k)\n",
    "    price = check_url(v[\"url\"], v[\"xpath\"])\n",
    "    print(\"Price\", price)"
   ]
  }
 ],
 "metadata": {
  "kernelspec": {
   "display_name": "pricing_bot",
   "language": "python",
   "name": "python3"
  },
  "language_info": {
   "codemirror_mode": {
    "name": "ipython",
    "version": 3
   },
   "file_extension": ".py",
   "mimetype": "text/x-python",
   "name": "python",
   "nbconvert_exporter": "python",
   "pygments_lexer": "ipython3",
   "version": "3.10.14"
  }
 },
 "nbformat": 4,
 "nbformat_minor": 2
}
