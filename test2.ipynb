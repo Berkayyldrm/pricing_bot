{
 "cells": [
  {
   "cell_type": "code",
   "execution_count": 3,
   "metadata": {},
   "outputs": [],
   "source": [
    "import requests\n",
    "from lxml import html\n",
    "from datetime import datetime"
   ]
  },
  {
   "cell_type": "code",
   "execution_count": 4,
   "metadata": {},
   "outputs": [],
   "source": [
    "def get_response_from_url(url):\n",
    "    headers = {\n",
    "        \"Accept\": \"text/html,application/xhtml+xml,application/xml;q=0.9,image/avif,image/webp,image/apng,*/*;q=0.8,application/signed-exchange;v=b3;q=0.7\",\n",
    "        \"Accept-Encoding\": \"gzip, deflate, br, zstd\",\n",
    "        \"Accept-Language\": \"tr-TR,tr;q=0.9,en-US;q=0.8,en;q=0.7\",\n",
    "        \"Cache-Control\": \"max-age=0\",\n",
    "        \"User-Agent\": \"Mozilla/5.0 (Windows NT 10.0; Win64; x64) AppleWebKit/537.36 (KHTML, like Gecko) Chrome/131.0.0.0 Safari/537.36\",\n",
    "        \"If-Modified-Since\": \"Fri, 22 Nov 2024 18:10:33 GMT\",\n",
    "    }\n",
    "    cookies = {\n",
    "        \"gcl_au\": \"1.1.581871697.1732298393\",\n",
    "        \"useinternal\": \"true\",\n",
    "        \"_gid\": \"GA1.2.2141075332.1732298393\",\n",
    "        # Ek çerezleri buraya ekleyin\n",
    "    }\n",
    "\n",
    "    response = requests.get(url, headers=headers, cookies=cookies)\n",
    "    print(f\"Status Code: {response.status_code}\")\n",
    "    return response.content, response.status_code"
   ]
  },
  {
   "cell_type": "code",
   "execution_count": 5,
   "metadata": {},
   "outputs": [],
   "source": [
    "main_urls = {\"hepsiburada_tel\": \"https://www.hepsiburada.com/magaza/hepsiburada?kategori=2147483642_371965&tab=allproducts\",\n",
    "             \"kolaysepet\": \"https://www.hepsiburada.com/magaza/kolaysepet?kategori=2147483638&tab=allproducts\"}"
   ]
  },
  {
   "cell_type": "code",
   "execution_count": 6,
   "metadata": {},
   "outputs": [],
   "source": [
    "one_page_product_count = 36"
   ]
  },
  {
   "cell_type": "code",
   "execution_count": null,
   "metadata": {},
   "outputs": [
    {
     "name": "stdout",
     "output_type": "stream",
     "text": [
      "name hepsiburada_tel\n",
      "page 1\n"
     ]
    }
   ],
   "source": [
    "for name, main_url in main_urls.items():\n",
    "    print(\"name\", name)\n",
    "    page = 0\n",
    "    links = []\n",
    "    prices = []\n",
    "    while True:\n",
    "        page += 1\n",
    "        print(\"page\", page)\n",
    "        if page == 1:\n",
    "            page_link = \"\"\n",
    "        else:\n",
    "            page_link = f\"&sayfa={page}\"\n",
    "        response_content, response_status_code = get_response_from_url(url=main_url+page_link)\n",
    "\n",
    "        tree = html.fromstring(response_content)\n",
    "\n",
    "        # Tüm 'data-test-id=\"price-current-price\"' div'lerini bul ve metinlerini al\n",
    "        price_divs = tree.xpath(\"//div[@data-test-id='price-current-price']/text()\")\n",
    "        if price_divs:\n",
    "            prices.extend([price.strip() for price in price_divs])\n",
    "        else:\n",
    "            print(\"Fiyat bilgisi bulunamadı.\")\n",
    "\n",
    "        total_product_count_xpath = f\"/html/body/div[2]/div/div/main/div[1]/div/div/div[2]/div/div[2]/div[2]/div/div/div[1]/div/div[2]/div/div/div/div/div/div/div/div[1]/div/div[1]/span\"\n",
    "        total_product_count = int(tree.xpath(total_product_count_xpath)[0].text)\n",
    "        for i in range(one_page_product_count):\n",
    "            i += 1\n",
    "            general_product_link_xpath = f\"/html/body/div[2]/div/div/main/div/div/div/div[2]/div/div[2]/div[2]/div/div/div[2]/div[4]/div/div[2]/div/div/div/div/div/div/ul/li[{i}]/div/a\"\n",
    "            general_product_link = tree.xpath(f\"{general_product_link_xpath}/@href\")\n",
    "\n",
    "            if general_product_link:\n",
    "                l = general_product_link[0].text if hasattr(general_product_link[0], 'text') else str(general_product_link[0])\n",
    "                links.append(l)\n",
    "        if total_product_count / 36 < page:\n",
    "            print(\"Last page executed.\")\n",
    "            break\n",
    "    link_price = dict(zip(links, prices))\n",
    "    data = {\n",
    "        \"time\": datetime.now().isoformat(),\n",
    "        \"name\": name,\n",
    "        \"link_price\": link_price}\n",
    "    print(data)\n",
    "    "
   ]
  },
  {
   "cell_type": "code",
   "execution_count": null,
   "metadata": {},
   "outputs": [],
   "source": [
    "data"
   ]
  }
 ],
 "metadata": {
  "kernelspec": {
   "display_name": "pricing_bot",
   "language": "python",
   "name": "python3"
  },
  "language_info": {
   "codemirror_mode": {
    "name": "ipython",
    "version": 3
   },
   "file_extension": ".py",
   "mimetype": "text/x-python",
   "name": "python",
   "nbconvert_exporter": "python",
   "pygments_lexer": "ipython3",
   "version": "3.10.15"
  }
 },
 "nbformat": 4,
 "nbformat_minor": 2
}
