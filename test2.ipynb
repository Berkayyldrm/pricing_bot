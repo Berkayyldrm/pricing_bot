{
 "cells": [
  {
   "cell_type": "code",
   "execution_count": 38,
   "metadata": {},
   "outputs": [],
   "source": [
    "import requests\n",
    "from lxml import html"
   ]
  },
  {
   "cell_type": "code",
   "execution_count": 39,
   "metadata": {},
   "outputs": [],
   "source": [
    "def get_response_from_url(url):\n",
    "    headers = {\n",
    "        \"Accept\": \"text/html,application/xhtml+xml,application/xml;q=0.9,image/avif,image/webp,image/apng,*/*;q=0.8,application/signed-exchange;v=b3;q=0.7\",\n",
    "        \"Accept-Encoding\": \"gzip, deflate, br, zstd\",\n",
    "        \"Accept-Language\": \"tr-TR,tr;q=0.9,en-US;q=0.8,en;q=0.7\",\n",
    "        \"Cache-Control\": \"max-age=0\",\n",
    "        \"User-Agent\": \"Mozilla/5.0 (Windows NT 10.0; Win64; x64) AppleWebKit/537.36 (KHTML, like Gecko) Chrome/131.0.0.0 Safari/537.36\",\n",
    "        \"If-Modified-Since\": \"Fri, 22 Nov 2024 18:10:33 GMT\",\n",
    "    }\n",
    "    cookies = {\n",
    "        \"gcl_au\": \"1.1.581871697.1732298393\",\n",
    "        \"useinternal\": \"true\",\n",
    "        \"_gid\": \"GA1.2.2141075332.1732298393\",\n",
    "        # Ek çerezleri buraya ekleyin\n",
    "    }\n",
    "\n",
    "    response = requests.get(url, headers=headers, cookies=cookies)\n",
    "    print(f\"Status Code: {response.status_code}\")\n",
    "    return response.content, response.status_code"
   ]
  },
  {
   "cell_type": "code",
   "execution_count": 40,
   "metadata": {},
   "outputs": [],
   "source": [
    "main_urls = {\"hepsiburada_tel\": \"https://www.hepsiburada.com/magaza/hepsiburada?kategori=2147483642_371965&tab=allproducts\",\n",
    "             \"kolaysepet\": \"https://www.hepsiburada.com/magaza/kolaysepet?kategori=2147483638&tab=allproducts\"}"
   ]
  },
  {
   "cell_type": "code",
   "execution_count": 41,
   "metadata": {},
   "outputs": [],
   "source": [
    "one_page_product_count = 36"
   ]
  },
  {
   "cell_type": "code",
   "execution_count": 42,
   "metadata": {},
   "outputs": [],
   "source": [
    "from datetime import datetime\n"
   ]
  },
  {
   "cell_type": "code",
   "execution_count": 49,
   "metadata": {},
   "outputs": [
    {
     "name": "stdout",
     "output_type": "stream",
     "text": [
      "name hepsiburada_tel\n",
      "page 1\n",
      "Status Code: 200\n",
      "page 2\n",
      "Status Code: 200\n",
      "page 3\n",
      "Status Code: 200\n",
      "page 4\n",
      "Status Code: 200\n",
      "page 5\n",
      "Status Code: 200\n",
      "page 6\n",
      "Status Code: 200\n",
      "page 7\n",
      "Status Code: 200\n",
      "Last page executed.\n",
      "{'time': '2024-11-29T01:43:17.200603', 'name': 'hepsiburada_tel', 'link_price': {'/iphone-13-128-gb-beyaz-p-HBCV00000ODHHO?magaza=Hepsiburada': '33.799,00', '/xiaomi-redmi-note-13-pro-512gb-12gb-xiaomi-turkiye-garantili-siyah-p-HBCV00005PZUWF?magaza=Hepsiburada': '15.699,00', '/xiaomi-redmi-note-13-pro-256gb-8gb-ram-xiaomi-turkiye-garantili-siyah-p-HBCV00005PZUWA?magaza=Hepsiburada': '13.799,00', '/samsung-galaxy-s24-fe-128-gb-8-gb-ram-samsung-turkiye-garantili-nane-rengi-p-HBCV00006Y948J?magaza=Hepsiburada': '24.999,00', '/iphone-16-pro-max-256gb-col-titanyum-p-HBCV00006Y4HC5?magaza=Hepsiburada': '98.999,00', '/iphone-13-128-gb-siyah-p-HBCV00000ODHHF?magaza=Hepsiburada': '33.599,00', '/iphone-16-pro-128gb-siyah-p-HBCV00006Y4HBH?magaza=Hepsiburada': '81.999,00', '/iphone-16-pro-128gb-col-titanyum-p-HBCV00006Y4HGL?magaza=Hepsiburada': '82.999,01', '/iphone-16-pro-max-512gb-col-titanyum-p-HBCV00006Y4I9P?magaza=Hepsiburada': '109.999,00', '/iphone-16-pro-128gb-naturel-titanyum-p-HBCV00006Y4HBL?magaza=Hepsiburada': '79.999,00', '/iphone-15-128-gb-siyah-p-HBCV00004X9ZCH?magaza=Hepsiburada': '51.999,00', '/iphone-16-pro-max-256gb-siyah-p-HBCV00006Y4HGT?magaza=Hepsiburada': '95.999,00', '/iphone-14-128-gb-beyaz-p-HBCV00002VUQ7S?magaza=Hepsiburada': '42.999,00', '/iphone-16-pro-max-256gb-naturel-titanyum-p-HBCV00006Y4HC7?magaza=Hepsiburada': '94.999,00', '/iphone-15-128-gb-mavi-p-HBCV00004X9ZCK?magaza=Hepsiburada': '50.749,00', '/iphone-16-pro-max-512gb-siyah-p-HBCV00006Y4HC9?magaza=Hepsiburada': '104.999,00', '/iphone-16-128gb-lacivert-tas-p-HBCV00006Y4HFN?magaza=Hepsiburada': '59.999,00', '/iphone-14-128-gb-siyah-p-HBCV00002VUQ7R?magaza=Hepsiburada': '42.999,00', '/iphone-16-pro-max-512gb-naturel-titanyum-p-HBCV00006Y4I9R?magaza=Hepsiburada': '104.999,00', '/samsung-galaxy-s24-ultra-512-gb-12-gb-ram-samsung-turkiye-garantili-siyah-p-HBCV00005MLL3R?magaza=Hepsiburada': '60.899,00', '/samsung-galaxy-m34-5g-6-gb-128-gb-samsung-turkiye-garantili-gumus-128-gb-gumus-p-HBCV00004WO01C?magaza=Hepsiburada': '8.949,00', '/iphone-15-pro-max-512-gb-mavi-titanyum-p-HBCV00004XA8GE?magaza=Hepsiburada': '89.999,00', '/iphone-16-128gb-deniz-mavisi-p-HBCV00006Y4HFP?magaza=Hepsiburada': '59.999,00', '/samsung-galaxy-m34-5g-6-gb-128-gb-samsung-turkiye-garantili-mavi-128-gb-mavi-p-HBCV00004WO01A?magaza=Hepsiburada': '8.949,00', '/iphone-16-256gb-deniz-mavisi-p-HBCV00006Y4HFX?magaza=Hepsiburada': '64.296,49', '/samsung-galaxy-s24-ultra-512-gb-12-gb-ram-samsung-turkiye-garantili-gri-p-HBCV00005MLKAT?magaza=Hepsiburada': '60.899,00', '/samsung-galaxy-s24-ultra-256-gb-12-gb-ram-samsung-turkiye-garantili-siyah-p-HBCV00005MLL3N?magaza=Hepsiburada': '57.439,00', '/iphone-16-pro-128gb-beyaz-p-HBCV00006Y4HBJ?magaza=Hepsiburada': '78.999,00', '/iphone-15-256-gb-p-HBCV00004X9ZCR?magaza=Hepsiburada': '56.499,00', '/iphone-16-pro-max-256gb-beyaz-p-HBCV00006Y4HGV?magaza=Hepsiburada': '94.999,00', '/iphone-16-256gb-lacivert-tas-p-HBCV00006Y4HU5?magaza=Hepsiburada': '63.749,00', '/poco-c65-256-gb-8-gb-ram-poco-turkiye-garantili-siyah-p-HBCV00006033T1?magaza=Hepsiburada': '7.199,00', '/xiaomi-redmi-note-13-pro-256gb-8gb-ram-xiaomi-turkiye-garantili-mor-p-HBCV00005PZUWC?magaza=Hepsiburada': '13.799,00', '/samsung-galaxy-s24-128-gb-8-gb-ram-samsung-turkiye-garantili-siyah-p-HBCV00005MLL3A?magaza=Hepsiburada': '30.000,00', '/xiaomi-redmi-note-13-256-gb-8-gb-ram-p-HBCV00005UMP58?magaza=Hepsiburada': '10.299,00', '/samsung-galaxy-a35-256-gb-8-gb-ram-samsung-turkiye-garantili-siyah-p-HBCV000062LEFO?magaza=Hepsiburada': '87.999,02', '/samsung-galaxy-s24-ultra-256-gb-12-gb-ram-samsung-turkiye-garantili-gri-p-HBCV00005MLL3M?magaza=Hepsiburada': '15.349,00', '/poco-x6-pro-5g-512gb-12gb-ram-poco-turkiye-garantili-siyah-p-HBCV00005OZSLZ?magaza=Hepsiburada': '57.439,00', '/samsung-galaxy-s24-fe-128-gb-8-gb-ram-samsung-turkiye-garantili-grafit-p-HBCV00006Y95PO?magaza=Hepsiburada': '17.699,00', '/iphone-16-128gb-siyah-p-HBCV00006Y4HFJ?magaza=Hepsiburada': '24.999,00', '/samsung-galaxy-s24-fe-128-gb-8-gb-ram-samsung-turkiye-garantili-gri-p-HBCV00006Y95TH?magaza=Hepsiburada': '60.599,00', '/iphone-15-128-gb-pembe-p-HBCV00004X9ZCI?magaza=Hepsiburada': '24.999,00', '/honor-200-512-gb-12-gb-ram-honor-turkiye-garantili-siyah-p-HBCV00006SHVNS?magaza=Hepsiburada': '52.299,00', '/iphone-16-pro-max-1tb-siyah-p-HBCV00006Y4I9T?magaza=Hepsiburada': '20.799,00', '/iphone-15-plus-128-gb-siyah-p-HBCV00004XA25T?magaza=Hepsiburada': '119.999,00', '/samsung-galaxy-a55-256-gb-8-gb-ram-samsung-turkiye-garantili-acik-mavi-p-HBCV000062N7CV?magaza=Hepsiburada': '59.999,00', '/xiaomi-redmi-note-13-256-gb-8-gb-ram-p-HBCV00005UKWR5?magaza=Hepsiburada': '19.999,00', '/honor-200-512-gb-12-gb-ram-honor-turkiye-garantili-zumrut-yesili-p-HBCV00006SHZ2S?magaza=Hepsiburada': '10.299,00', '/xiaomi-redmi-note-13-pro-512gb-12gb-xiaomi-turkiye-garantili-mor-p-HBCV00005PZUWE?magaza=Hepsiburada': '20.999,00', '/iphone-16-pro-max-512gb-beyaz-p-HBCV00006Y4HCB?magaza=Hepsiburada': '15.999,00', '/iphone-15-256-gb-mavi-p-HBCV00004X9ZCQ?magaza=Hepsiburada': '104.899,00', '/xiaomi-redmi-13-256-gb-8-gb-ram-xiaomi-turkiye-garantili-siyah-p-HBCV00006HSGP8?magaza=Hepsiburada': '55.999,00', '/iphone-16-pro-max-1tb-col-beji-p-HBCV00006Y4I9X?magaza=Hepsiburada': '8.799,00', '/iphone-11-64-gb-siyah-p-HBV0000120X65?magaza=Hepsiburada': '119.999,00', '/honor-200-pro-512-gb-12-gb-ram-honor-turkiye-garantili-siyah-p-HBCV00006M0QVH?magaza=Hepsiburada': '23.999,00', '/iphone-16-pro-256gb-col-titanyum-p-HBCV00006Y4HBR?magaza=Hepsiburada': '29.499,00', '/iphone-16-256gb-siyah-p-HBCV00006Y4HFR?magaza=Hepsiburada': '87.999,00', '/samsung-galaxy-s24-128-gb-8-gb-ram-samsung-turkiye-garantili-gri-p-HBCV00005MLL39?magaza=Hepsiburada': '64.299,00', '/xiaomi-14t-pro-12gb-512gb-p-HBCV00006YA8AZ?magaza=Hepsiburada': '28.999,00', '/iphone-14-128-gb-mavi-p-HBCV00002VUQ7U?magaza=Hepsiburada': '39.499,00', '/iphone-16-256gb-pembe-p-HBCV00006Y4HFV?magaza=Hepsiburada': '42.899,00', '/samsung-galaxy-a55-256-gb-8-gb-ram-samsung-turkiye-garantili-siyah-p-HBCV000062N7C3?magaza=Hepsiburada': '64.933,09', '/iphone-15-256-gb-pembe-p-HBCV00004X9ZCO?magaza=Hepsiburada': '19.999,00', '/poco-x6-pro-5g-512gb-12gb-ram-poco-turkiye-garantili-gri-p-HBCV00005OZSM0?magaza=Hepsiburada': '57.499,00', '/samsung-galaxy-s24-ultra-256-gb-12-gb-ram-samsung-turkiye-garantili-mor-p-HBCV00005MLL3L?magaza=Hepsiburada': '18.299,00', '/samsung-galaxy-s23-128-gb-8-gb-ram-samsung-turkiye-garantili-siyah-p-HBCV00003Z341W?magaza=Hepsiburada': '57.439,00', '/honor-90-512-gb-12-gb-ram-honor-turkiye-garantili-pm-HBC00004QNXP3?magaza=Hepsiburada': '27.899,00', '/samsung-galaxy-a35-256-gb-8-gb-ram-samsung-turkiye-garantili-acik-mavi-p-HBCV000062LSYG?magaza=Hepsiburada': '16.699,00', '/samsung-galaxy-m15-128-gb-4-gb-ram-samsung-turkiye-garantili-gri-p-HBCV000062Z4RF?magaza=Hepsiburada': '15.349,00', '/samsung-galaxy-m15-128-gb-4-gb-ram-samsung-turkiye-garantili-koyu-mavi-p-HBCV000062Z46I?magaza=Hepsiburada': '7.109,00', '/iphone-16-pro-512gb-beyaz-p-HBCV00006Y4HGN?magaza=Hepsiburada': '7.109,00', '/iphone-15-plus-128-gb-pembe-p-HBCV00004XA25U?magaza=Hepsiburada': '95.999,00', '/iphone-13-256-gb-beyaz-p-HBCV00000ODHWC?magaza=Hepsiburada': '59.949,00', '/honor-200-256-gb-8-gb-ram-honor-turkiye-garantili-siyah-p-HBCV000076P9FN?magaza=Hepsiburada': '43.999,00', '/xiaomi-redmi-13-256-gb-8-gb-ram-xiaomi-turkiye-garantili-altin-p-HBCV00006HSMVS?magaza=Hepsiburada': '16.799,00', '/iphone-16-plus-256gb-lacivert-tas-p-HBCV00006Y4HUH?magaza=Hepsiburada': '8.799,00', '/iphone-15-plus-128-gb-mavi-p-HBCV00004XA25W?magaza=Hepsiburada': '73.999,00', '/iphone-16-plus-128gb-siyah-p-HBCV00006Y4HG5?magaza=Hepsiburada': '61.399,00', '/xiaomi-redmi-13c-256-gb-8-gb-ram-xiaomi-turkiye-garantili-siyah-p-HBCV00005KQYTW?magaza=Hepsiburada': '69.299,00', '/iphone-14-256-gb-mor-p-HBCV00002VUQLK?magaza=Hepsiburada': '7.999,00', '/honor-200-256-gb-8-gb-ram-honor-turkiye-garantili-zumrut-yesili-p-HBCV000076PBKX?magaza=Hepsiburada': '49.399,00', '/samsung-galaxy-z-fold6-512-gb-12-gb-ram-samsung-turkiye-garantili-pembe-p-HBCV00006M1WAM?magaza=Hepsiburada': '16.799,00', '/iphone-16-128gb-pembe-p-HBCV00006Y4HU3?magaza=Hepsiburada': '70.999,00', '/xiaomi-redmi-13c-256-gb-8-gb-ram-xiaomi-turkiye-garantili-lacivert-p-HBCV00005KQYTY?magaza=Hepsiburada': '61.499,00', '/samsung-galaxy-s24-128-gb-8-gb-ram-samsung-turkiye-garantili-mor-p-HBCV00005MLJW4?magaza=Hepsiburada': '7.999,00', '/iphone-13-256-gb-siyah-p-HBCV00000ODHW6?magaza=Hepsiburada': '28.999,00', '/samsung-galaxy-m15-128-gb-4-gb-ram-samsung-turkiye-garantili-acik-mavi-p-HBCV000062Z78P?magaza=Hepsiburada': '44.299,00', '/honor-200-256-gb-8-gb-ram-honor-turkiye-garantili-beyaz-p-HBCV0000768FSQ?magaza=Hepsiburada': '7.109,00', '/iphone-16-plus-128gb-pembe-p-HBCV00006Y4HUB?magaza=Hepsiburada': '16.799,00', '/iphone-16-plus-128gb-lacivert-tas-p-HBCV00006Y4HUD?magaza=Hepsiburada': '69.299,00', '/iphone-15-256-gb-siyah-p-HBCV00004X9ZCN?magaza=Hepsiburada': '69.299,00', '/iphone-16-pro-512gb-col-titanyum-p-HBCV00006Y4HBX?magaza=Hepsiburada': '57.999,00', '/iphone-16-pro-512gb-siyah-p-HBCV00006Y4HBV?magaza=Hepsiburada': '97.999,00', '/iphone-16-pro-max-1tb-naturel-titanyum-p-HBCV00006Y4I9Z?magaza=Hepsiburada': '97.999,00', '/iphone-15-plus-256-gb-pembe-p-HBCV00004XA38W?magaza=Hepsiburada': '115.999,00', '/reeder-s19-max-pro-s-128-gb-8-gb-ram-reeder-turkiye-garantili-siyah-p-HBCV00004BSP2W?magaza=Hepsiburada': '64.949,00', '/iphone-16-plus-128gb-deniz-mavisi-p-HBCV00006Y4HG9?magaza=Hepsiburada': '8.499,00', '/poco-c65-256-gb-8-gb-ram-poco-turkiye-garantili-mavi-p-HBCV00006036PZ?magaza=Hepsiburada': '78.971,72', '/iphone-16-plus-256gb-pembe-p-HBCV00006Y4HGD?magaza=Hepsiburada': '6.899,00', '/iphone-14-256-gb-siyah-p-HBCV00002VUQ7W?magaza=Hepsiburada': '73.999,00', '/xiaomi-redmi-note-13-256gb-8gb-ram-xiaomi-turkiye-garantili-yesil-p-HBCV00005UMEKK?magaza=Hepsiburada': '49.499,02', '/iphone-16-pro-256gb-siyah-p-HBCV00006Y4HBN?magaza=Hepsiburada': '10.299,00', '/samsung-galaxy-z-flip6-256-gb-12-gb-ram-samsung-turkiye-garantili-mavi-p-HBCV00006M1WAO?magaza=Hepsiburada': '84.999,00', '/reeder-s19-max-pro-s-128-gb-8-gb-ram-reeder-turkiye-garantili-beyaz-p-HBCV00004BSP8O?magaza=Hepsiburada': '48.869,00', '/iphone-14-256-gb-kirmizi-p-HBCV00002VUQ7Y?magaza=Hepsiburada': '8.499,00', '/iphone-15-pro-max-1-tb-beyaz-titanyum-p-HBCV00004XA8GH?magaza=Hepsiburada': '58.762,66', '/xiaomi-14-ultra-512-gb-16-gb-ram-xiaomi-turkiye-garantili-siyah-p-HBCV000064MPCG?magaza=Hepsiburada': '94.899,00', '/iphone-16-plus-256gb-deniz-mavisi-p-HBCV00006Y4HBB?magaza=Hepsiburada': '70.099,00', '/honor-200-pro-512-gb-12-gb-ram-honor-turkiye-garantili-yesil-p-HBCV00006M0QPO?magaza=Hepsiburada': '73.999,01', '/xiaomi-redmi-14c-8gb-256gb-p-HBCV000076VAQ8?magaza=Hepsiburada': '29.999,00', '/iphone-16-pro-max-1tb-beyaz-p-HBCV00006Y4I9V?magaza=Hepsiburada': '8.749,00', '/iphone-15-plus-256-gb-yesil-p-HBCV00004XA38Z?magaza=Hepsiburada': '113.999,00', '/iphone-16-pro-1tb-siyah-p-HBCV00006Y4HGR?magaza=Hepsiburada': '66.949,00', '/xiaomi-redmi-14c-8gb-256gb-p-HBCV000076VC4J?magaza=Hepsiburada': '107.999,02', '/iphone-14-128-gb-mor-p-HBCV00002VUQ7T?magaza=Hepsiburada': '8.749,00', '/nothing-phone-1-256-gb-8-gb-ram-nothing-turkiye-garantili-pm-HBC00004BJC1R?magaza=Hepsiburada': '46.999,00', '/xiaomi-13t-pro-512-gb-12-gb-ram-xiaomi-turkiye-garantili-siyah-p-HBCV000050HXW1?magaza=Hepsiburada': '13.999,00', '/iphone-15-128-gb-p-HBCV00004X9ZCL?magaza=Hepsiburada': '31.849,00', '/oppo-a60-8gb-256gb-oppo-turkiye-garantili-mor-p-HBCV00006T7MSX?magaza=Hepsiburada': '51.999,00', '/iphone-14-256-gb-beyaz-p-HBCV00002VUQ7X?magaza=Hepsiburada': '10.399,00', '/iphone-15-pro-1-tb-mavi-titanyum-p-HBCV00004XA87K?magaza=Hepsiburada': '48.999,00', '/xiaomi-redmi-13-256-gb-8-gb-ram-xiaomi-turkiye-garantili-mavi-p-HBCV00006HSJWA?magaza=Hepsiburada': '88.999,00', '/samsung-galaxy-s24-128-gb-8-gb-ram-samsung-turkiye-garantili-sari-p-HBCV00005MLL38?magaza=Hepsiburada': '9.699,00', '/xiaomi-13t-pro-512-gb-12-gb-ram-xiaomi-turkiye-garantili-cayir-yesili-p-HBCV000050HXW2?magaza=Hepsiburada': '28.999,00', '/huawei-pura-70-12-256gb-beyaz-huawei-turkiye-garantili-beyaz-p-HBCV00006C4QOO?magaza=Hepsiburada': '31.849,00', '/samsung-galaxy-z-flip6-256-gb-12-gb-ram-samsung-turkiye-garantili-yesil-p-HBCV00006M1W2W?magaza=Hepsiburada': '34.999,00', '/samsung-galaxy-z-fold6-512-gb-12-gb-ram-samsung-turkiye-garantili-gumus-p-HBCV00006M1WBP?magaza=Hepsiburada': '48.869,00', '/xiaomi-13t-pro-512-gb-12-gb-ram-xiaomi-turkiye-garantili-alp-mavisi-p-HBCV000050HXW3?magaza=Hepsiburada': '79.999,00', '/iphone-15-pro-max-1-tb-mavi-titanyum-p-HBCV00004XA8GJ?magaza=Hepsiburada': '31.849,00', '/xiaomi-14t-pro-12gb-256gb-p-HBCV00006YA8B4?magaza=Hepsiburada': '94.899,00', '/reeder-s19-max-pro-s-128-gb-8-gb-ram-reeder-turkiye-garantili-mor-p-HBCV00004BSPIK?magaza=Hepsiburada': '43.588,67', '/samsung-galaxy-s24-fe-128-gb-8-gb-ram-samsung-turkiye-garantili-mavi-p-HBCV00006Y95YQ?magaza=Hepsiburada': '8.499,00', '/xiaomi-14t-12gb-256gb-p-HBCV00006YA8AS?magaza=Hepsiburada': '24.999,00', '/iphone-16-pro-512gb-naturel-titanyum-p-HBCV00006Y4HGP?magaza=Hepsiburada': '27.199,00', '/samsung-galaxy-z-flip6-512-gb-12-gb-ram-samsung-turkiye-garantili-yesil-p-HBCV00006M1WK0?magaza=Hepsiburada': '97.999,00', '/honor-magic-v2-512-gb-16-gb-ram-honor-turkiye-garantili-siyah-p-HBCV00005YWYNV?magaza=Hepsiburada': '51.199,00', '/samsung-galaxy-z-flip6-256-gb-12-gb-ram-samsung-turkiye-garantili-sari-p-HBCV00006M1WWD?magaza=Hepsiburada': '58.999,00', '/nothing-phone-1-128-gb-8-gb-ram-nothing-turkiye-garantili-pm-HBC00005EWDXU?magaza=Hepsiburada': '48.869,00', '/xiaomi-14t-pro-12gb-256gb-p-HBCV00006YA8B2?magaza=Hepsiburada': '13.299,00', '/iphone-15-plus-256-gb-siyah-p-HBCV00004XA25Z?magaza=Hepsiburada': '36.799,00', '/oppo-reno11-f-5g-8gb-256gb-oppo-turkiye-garantili-acik-yesil-p-HBCV00006ERXLZ?magaza=Hepsiburada': '64.949,00', '/iphone-15-plus-128-gb-yesil-p-HBCV00004XA25X?magaza=Hepsiburada': '15.899,00', '/samsung-galaxy-a35-256-gb-8-gb-ram-samsung-turkiye-garantili-sari-p-HBCV000062MGK3?magaza=Hepsiburada': '60.949,00', '/honor-magic-v2-512-gb-16-gb-ram-honor-turkiye-garantili-deri-siyah-p-HBCV00005YWYNU?magaza=Hepsiburada': '15.499,00', '/nothing-phone-2-512-gb-12-gb-ram-nothing-turkiye-garantili-gri-p-HBCV00004QNXP7?magaza=Hepsiburada': '58.999,00', '/oppo-a60-8gb-128gb-oppo-turkiye-garantili-mavi-p-HBCV00006T7QJB?magaza=Hepsiburada': '28.499,00', '/oppo-a38-128gb-6gb-ram-oppo-turkiye-garantili-siyah-p-HBCV00006NO8O1?magaza=Hepsiburada': '8.799,00', '/realme-12-5g-8gb-256gb-realme-turkiye-garantili-yesil-p-HBCV00006ST9MX?magaza=Hepsiburada': '7.199,00', '/honor-magic-6-pro-512-gb-12-gb-ram-5g-honor-turkiye-garantili-yesil-p-HBCV000064TK00?magaza=Hepsiburada': '14.999,00', '/honor-magic-6-pro-512-gb-12-gb-ram-5g-honor-turkiye-garantili-siyah-p-HBCV000064TJZZ?magaza=Hepsiburada': '52.499,00', '/samsung-galaxy-z-flip6-512-gb-12-gb-ram-samsung-turkiye-garantili-mavi-p-HBCV00006M1WAQ?magaza=Hepsiburada': '52.499,00', '/iphone-15-128-gb-sari-p-HBCV00004X9ZCJ?magaza=Hepsiburada': '51.999,00', '/iphone-16-512gb-pembe-p-HBCV00006Y4HU9?magaza=Hepsiburada': '51.999,00', '/iphone-16-512gb-lacivert-tas-p-HBCV00006Y4HG1?magaza=Hepsiburada': '85.374,92', '/huawei-pura-70-12-256gb-siyah-huawei-turkiye-garantili-siyah-p-HBCV00006C4OW9?magaza=Hepsiburada': '85.374,92', '/realme-12-5g-8gb-256gb-realme-turkiye-garantili-bej-p-HBCV00006STO9L?magaza=Hepsiburada': '34.999,00', '/xiaomi-14t-pro-12gb-512gb-p-HBCV00006YA8B0?magaza=Hepsiburada': '14.999,00', '/xiaomi-redmi-14c-8gb-256gb-p-HBCV000076VC64?magaza=Hepsiburada': '39.499,00', '/huawei-pura-70-pro-12-512gb-beyaz-huawei-turkiye-garantili-beyaz-p-HBCV00006C4R9L?magaza=Hepsiburada': '8.749,00', '/realme-gt6t-12gb-256gb-realme-turkiye-garantili-yesil-p-HBCV00006STOUD?magaza=Hepsiburada': '44.999,00', '/iphone-15-512-gb-mavi-p-HBCV00004X9ZCW?magaza=Hepsiburada': '28.699,00', '/oppo-a60-8gb-256gb-oppo-turkiye-garantili-mavi-p-HBCV00006T7QJC?magaza=Hepsiburada': '66.799,00', '/iphone-15-plus-256-gb-sari-p-HBCV00004XA38X?magaza=Hepsiburada': '10.399,00', '/samsung-galaxy-z-flip6-256-gb-12-gb-ram-samsung-turkiye-garantili-gumus-p-HBCV00006M1W0B?magaza=Hepsiburada': '66.299,00', '/huawei-nova-12i-128-gb-8-gb-ram-siyah-huawei-turkiye-garantili-siyah-p-HBCV00006752WG?magaza=Hepsiburada': '48.869,00', '/yeni-iphone-se-64-gb-3-nesil-beyaz-p-HBCV00001S45XL?magaza=Hepsiburada': '12.899,00', '/oppo-reno11-fs-8-gb-256-gb-oppo-turkiye-garantili-p-HBCV000073A3XW?magaza=Hepsiburada': '26.699,00', '/huawei-pura-70-pro-12-512gb-siyah-huawei-turkiye-garantili-siyah-p-HBCV00006C4QCI?magaza=Hepsiburada': '13.399,00', '/iphone-13-256-gb-kirmizi-p-HBCV00000ODHWH?magaza=Hepsiburada': '44.999,00', '/poco-x6-5g-12-512-gb-pm-HBC00006RCIKC?magaza=Hepsiburada': '44.299,00', '/honor-200-pro-512-gb-12-gb-ram-honor-turkiye-garantili-beyaz-p-HBCV00007CTHC0?magaza=Hepsiburada': '18.050,50', '/oppo-a60-8gb-128gb-oppo-turkiye-garantili-mor-p-HBCV00006T7MY8?magaza=Hepsiburada': '29.999,00', '/tecno-spark-20-pro-256-gb-12-gb-ram-tecno-turkiye-garantili-siyah-p-HBCV000062YSHP?magaza=Hepsiburada': '8.799,00', '/iphone-14-128-gb-sari-p-HBCV00003XVYI7?magaza=Hepsiburada': '11.599,00', '/huawei-pura-70-ultra-16-512gb-huawei-turkiye-garantili-p-HBCV00006C4KNN?magaza=Hepsiburada': '43.199,00', '/iphone-14-512-gb-mavi-p-HBCV00002VUQ85?magaza=Hepsiburada': '64.498,99', '/nothing-phone-2a-256-gb-12-gb-ram-nothing-turkiye-garantili-beyaz-p-HBCV000062A66Y?magaza=Hepsiburada': '60.899,00', '/oppo-reno11-fs-8-gb-256-gb-oppo-turkiye-garantili-p-HBCV000072R3CJ?magaza=Hepsiburada': '19.999,00', '/iphone-16-pro-1tb-naturel-titanyum-p-HBCV00006Y4HC3?magaza=Hepsiburada': '13.399,00', '/iphone-16-pro-1tb-col-titanyum-p-HBCV00006Y4HC1?magaza=Hepsiburada': '107.999,00', '/samsung-galaxy-z-flip6-512-gb-12-gb-ram-samsung-turkiye-garantili-sari-p-HBCV00006M1W0C?magaza=Hepsiburada': '107.999,00', '/huawei-nova-12i-128-gb-8-gb-ram-yesil-huawei-turkiye-garantili-yesil-p-HBCV00006752WI?magaza=Hepsiburada': '51.999,00', '/tecno-camon-30-256-gb-12-gb-ram-tecno-turkiye-garantili-beyaz-p-HBCV00006G1E0P?magaza=Hepsiburada': '12.899,00', '/tecno-camon-30-pro-5g-512-gb-12-gb-ram-tecno-turkiye-garantili-siyah-p-HBCV00006U0VUZ?magaza=Hepsiburada': '15.099,00', '/iphone-15-pro-1-tb-siyah-titanyum-p-HBCV00004XA87H?magaza=Hepsiburada': '23.999,00', '/samsung-galaxy-z-fold6-1-tb-12-gb-ram-samsung-turkiye-garantili-pembe-p-HBCV00006M1W0A?magaza=Hepsiburada': '91.999,00', '/huawei-nova-12s-256-gb-8-gb-ram-beyaz-huawei-turkiye-garantili-beyaz-p-HBCV00006752WA?magaza=Hepsiburada': '79.999,00', '/oppo-reno11-fs-8-gb-256-gb-oppo-turkiye-garantili-p-HBCV000073A3XV?magaza=Hepsiburada': '19.999,00', '/huawei-pura-70-ultra-16-512gb-yesil-huawei-turkiye-garantili-p-HBCV00006C4Q4E?magaza=Hepsiburada': '13.399,00', '/tecno-pova-6-pro-5g-256gb-tecno-turkiye-garantili-pm-HBC00006U0WAX?magaza=Hepsiburada': '64.498,99', '/iphone-15-plus-128-gb-sari-p-HBCV00004XA25V?magaza=Hepsiburada': '15.999,00', '/iphone-12-64-gb-yesil-p-HBV00000YDZXH?magaza=Hepsiburada': '61.499,00', '/iphone-14-512-gb-beyaz-p-HBCV00002VUQ82?magaza=Hepsiburada': '30.999,00', '/huawei-nova-12s-256-gb-8-gb-ram-mavi-huawei-turkiye-garantili-mavi-p-HBCV00006752W8?magaza=Hepsiburada': '60.599,00', '/oppo-reno11-f-5g-8gb-256gb-oppo-turkiye-garantili-acik-mavi-p-HBCV00006ERZ3V?magaza=Hepsiburada': '19.999,00', '/yeni-iphone-se-64-gb-3-nesil-siyah-p-HBCV00001S45XC?magaza=Hepsiburada': '19.862,59', '/nothing-phone-2-512-gb-12-gb-ram-nothing-turkiye-garantili-beyaz-p-HBCV00004YD2TF?magaza=Hepsiburada': '29.099,00', '/iphone-14-256-gb-sari-p-HBCV00003XVYI8?magaza=Hepsiburada': '28.499,00', '/tecno-phantom-v-flip-8-256-gb-tecno-turkiye-garantili-siyah-p-HBCV00005NLPKV?magaza=Hepsiburada': '49.599,00', '/tecno-camon-30-256-gb-12-gb-ram-tecno-turkiye-garantili-siyah-p-HBCV00006G0VKC?magaza=Hepsiburada': '34.999,00', '/huawei-p60-pro-256-gb-8-gb-ram-huawei-turkiye-garantili-inci-beyazi-p-HBCV00004BGFYR?magaza=Hepsiburada': '15.099,00', '/tecno-spark-20-pro-plus-256gb-tecnoturkiye-garantili-siyah-p-HBCV00006TZQYN?magaza=Hepsiburada': '39.049,00', '/huawei-nova-12-se-256-gb-8-gb-ram-siyah-huawei-turkiye-garantili-siyah-p-HBCV00006752WC?magaza=Hepsiburada': '13.399,00', '/yeni-iphone-se-128-gb-3-nesil-beyaz-p-HBCV00001S47LB?magaza=Hepsiburada': '18.199,00', '/yeni-iphone-se-256-gb-3-nesil-kirmizi-p-HBCV00001T66XD?magaza=Hepsiburada': '31.999,00', '/realme-gt6t-12gb-256gb-realme-turkiye-garantili-gumus-p-HBCV00006ST9MT?magaza=Hepsiburada': '32.799,00', '/tecno-spark-20-pro-256-gb-12-gb-ram-tecno-turkiye-garantili-bej-p-HBCV000062YSHQ?magaza=Hepsiburada': '28.699,00', '/huawei-nova-12s-256-gb-8-gb-ram-siyah-huawei-turkiye-garantili-siyah-p-HBCV00006751FE?magaza=Hepsiburada': '11.599,00', '/nothing-phone-2a-128-gb-8-gb-ram-nothing-turkiye-garantili-pm-HBC0000621A0P?magaza=Hepsiburada': '19.999,00', '/tecno-spark-20c-128-gb-8-gb-ram-tecno-turkiye-garantili-p-HBCV00005SHJA7?magaza=Hepsiburada': '19.342,99', '/huawei-nova-11-256-gb-8-gb-ram-huawei-turkiye-garantili-yesil-p-HBCV00004HPNDB?magaza=Hepsiburada': '8.991,94', '/wiko-t60-256-gb-8-gb-ram-wiko-turkiye-garantili-siyah-p-HBCV00004Y3NGQ?magaza=Hepsiburada': '17.998,99', '/tecno-spark-20c-128-gb-8-gb-ram-tecno-turkiye-garantili-siyah-p-HBCV00005SHJEJ?magaza=Hepsiburada': '7.049,00', '/wiko-t60-256-gb-8-gb-ram-wiko-turkiye-garantili-mavi-p-HBCV00004Y3NGS?magaza=Hepsiburada': '85.374,92', '/iphone-16-512gb-beyaz-p-HBCV00006Y4HU7?magaza=Hepsiburada': '7.049,00', '/iphone-14-512-gb-mor-p-HBCV00002VUQ83?magaza=Hepsiburada': '7.049,00', '/iphone-15-256-gb-sari-p-HBCV00004X9ZCP?magaza=Hepsiburada': '60.899,00', '/iphone-14-plus-512-gb-siyah-p-HBCV00002W280J?magaza=Hepsiburada': '57.799,00', '/realme-12-pro-plus-12-gb-512-gb-realme-turkiye-garantili-bej-bej-p-HBCV00006GCRG4?magaza=Hepsiburada': '65.999,00', '/wiko-t60-256-gb-8-gb-ram-wiko-turkiye-garantili-mor-p-HBCV00004Y3NGR?magaza=Hepsiburada': '31.738,96', '/iphone-16-plus-512gb-beyaz-p-HBCV00006Y4HGF?magaza=Hepsiburada': '6.949,00', '/tecno-spark-20-pro-plus-256gb-tecno-turkiye-garantili-beyaz-p-HBCV00006TZSQM?magaza=Hepsiburada': '83.799,00', '/yeni-iphone-se-64-gb-3-nesil-kirmizi-p-HBCV00001S45XO?magaza=Hepsiburada': '13.399,00', '/realme-12-pro-plus-8-gb-256-gb-realme-turkiye-garantili-bej-p-HBCV00006GCRG0?magaza=Hepsiburada': '26.999,00', '/iphone-16-pro-1tb-beyaz-p-HBCV00006Y4HBZ?magaza=Hepsiburada': '26.299,00', '/realme-12pro-8gb-256gb-denizci-mavisi-pm-HBC00006GCRFX?magaza=Hepsiburada': '107.999,00', '/tecno-camon-30-pro-5g-512-gb-12-gb-ram-tecno-turkiye-garantili-gumus-p-HBCV00006U0Y4I?magaza=Hepsiburada': '20.599,00', '/huawei-nova-12-se-256-gb-8-gb-ram-yesil-huawei-turkiye-garantili-yesil-p-HBCV00006752WE?magaza=Hepsiburada': '23.999,00', '/samsung-galaxy-z-fold6-512-gb-12-gb-ram-samsung-turkiye-garantili-lacivert-p-HBCV00006M1WJY?magaza=Hepsiburada': '18.199,00', '/iphone-14-512-gb-sari-p-HBCV00003XVYI9?magaza=Hepsiburada': '79.999,00', '/iphone-16-plus-512gb-pembe-p-HBCV00006Y4HGH?magaza=Hepsiburada': '60.899,00', '/tecno-camon-20-256-gb-8-gb-ram-tecno-turkiye-garantili-mavi-p-HBCV00005159PB?magaza=Hepsiburada': '94.979,72', '/iphone-16-512gb-deniz-mavisi-p-HBCV00006Y4HG3?magaza=Hepsiburada': '10.578,94'}}\n",
      "name kolaysepet\n",
      "page 1\n",
      "Status Code: 200\n",
      "Last page executed.\n",
      "{'time': '2024-11-29T01:43:17.774273', 'name': 'kolaysepet', 'link_price': {'/philips-azur-8000-serisi-buharli-utu-dst8050-20-pm-HBC000036RV14?magaza=Kolaysepet': '5.672,07', '/philips-air-performer-8000-serisi-3-u-1-arada-hava-temizleyici-fan-ve-isitici-amf870-15-pm-HBC00003XU7MV?magaza=Kolaysepet': '19.799,10', '/philips-gc026-80-tuy-temizleme-makinesi-pm-HBC00005P9DX3?magaza=Kolaysepet': '649,00', '/philips-xc7040-01-speedpro-max-sarjli-dikey-supurge-pm-HBC00004BGZ14?magaza=Kolaysepet': '11.159,07', '/philips-55pus8309-55-139-ekran-uydu-alicili-4k-ultra-hd-smart-led-tv-p-HBCV00006JWH9S?magaza=Kolaysepet': '21.971,25', '/philips-xb9125-07-marathon-ultimate-toz-torbasiz-elektrikli-supurge-pm-HB00000O0KAY?magaza=Kolaysepet': '13.223,67', '/fakir-inovator-x-7269-sarjli-dikey-supurge-turuncu-pm-HBC000022AAW5?magaza=Kolaysepet': '7.792,47', '/philips-65pus8309-65-165-ekran-uydu-alicili-4k-ultra-hd-smart-led-tv-p-HBCV00006JWG11?magaza=Kolaysepet': '30.563,26', '/philips-43pus8309-62-43-109-ekran-uydu-alicili-4k-ultra-hd-smart-led-tv-p-HBCV00006PSL62?magaza=Kolaysepet': '16.181,07', '/philips-xu2000-10-2000-serisi-islak-kuru-moplu-robot-supurge-lacivert-pm-HBC00006X38F0?magaza=Kolaysepet': '20.665,53', '/philips-50pus8309-50-127-ekran-uydu-alicili-4k-ultra-hd-smart-led-tv-p-HBCV00006JU3XD?magaza=Kolaysepet': '19.417,47', '/philips-psg7040-10-perfectcare-buhar-kazanli-utu-pm-HBC00000PDHXJ?magaza=Kolaysepet': '10.699,00', '/philips-xu3000-01-homerun-3000-serisi-aqua-siyah-akilli-robot-supurge-pm-HBC00004A9Q4U?magaza=Kolaysepet': '16.739,99', '/philips-ac3420-10-pureprotect-water-3400-serisi-akilli-2-si-1-arada-hava-temizleyici-ve-nemlendirici-pm-HBC00007792MG?magaza=Kolaysepet': '19.149,00', '/philips-perfect-care-buhar-kazanli-utu-gc8752-30-pm-HBC00004IUP1L?magaza=Kolaysepet': '5.899,00', '/fakir-freelander-bl-6056-silverstone-toz-torbasiz-supurge-pm-HBC00000QRVHU?magaza=Kolaysepet': '4.270,56', '/philips-7000-serisi-dst7040-80-siyah-gold-buharli-utu-pm-HBC00003XBZIP?magaza=Kolaysepet': '3.588,87', '/fakir-torbasiz-supurge-veyron-pro-silverstone-pm-HBC000051W2GF?magaza=Kolaysepet': '5.312,16', '/philips-performer-led-torbali-elektrikli-supurge-xd8122-10-pm-HBC00006OJZ9X?magaza=Kolaysepet': '8.573,67', '/philips-fym860-30-nano-koruma-filtre-amf870-uyumlu-pm-HBC00004Y0RSD?magaza=Kolaysepet': '3.491,10', '/fakir-vacuumpro-toz-torbasiz-supurge-pm-HBC000069KXO7?magaza=Kolaysepet': '11.104,20', '/philips-perfectcare-6000-series-psg6026-20-2400-w-buhar-kazanli-utu-pm-HBC00003ZL0G3?magaza=Kolaysepet': '7.373,97', '/fakir-veyron-pro-toz-torbasiz-supurge-mat-rose-pm-HBC00004Y573J?magaza=Kolaysepet': '5.312,16', '/evin-new-rose-104-utu-masasi-pm-HBC00003P4NBH?magaza=Kolaysepet': '1.999,00', '/lady-sarayli-diva-utu-masasi-pm-HB00000M2G6B?magaza=Kolaysepet': '1.999,00', '/philips-amf870-15-3-u-1-arada-hava-temizleyici-fan-ve-isitici-philips-fym860-30-nano-koruma-filtre-hediyeli-pm-HBC00006OJZ9Z?magaza=Kolaysepet': '23.399,10', '/philips-homerun-2000-serisi-aqua-akilli-robot-supurge-xu2000-10-4-adet-xv1430-00-mop-hediyeli-pm-HBC000070WK6M?magaza=Kolaysepet': '16.832,07'}}\n"
     ]
    }
   ],
   "source": [
    "for name, main_url in main_urls.items():\n",
    "    print(\"name\", name)\n",
    "    page = 0\n",
    "    links = []\n",
    "    prices = []\n",
    "    while True:\n",
    "        page += 1\n",
    "        print(\"page\", page)\n",
    "        if page == 1:\n",
    "            page_link = \"\"\n",
    "        else:\n",
    "            page_link = f\"&sayfa={page}\"\n",
    "        response_content, response_status_code = get_response_from_url(url=main_url+page_link)\n",
    "\n",
    "        tree = html.fromstring(response_content)\n",
    "\n",
    "        # Tüm 'data-test-id=\"price-current-price\"' div'lerini bul ve metinlerini al\n",
    "        price_divs = tree.xpath(\"//div[@data-test-id='price-current-price']/text()\")\n",
    "        if price_divs:\n",
    "            prices.extend([price.strip() for price in price_divs])\n",
    "        else:\n",
    "            print(\"Fiyat bilgisi bulunamadı.\")\n",
    "\n",
    "        total_product_count_xpath = f\"/html/body/div[2]/div/div/main/div[1]/div/div/div[2]/div/div[2]/div[2]/div/div/div[1]/div/div[2]/div/div/div/div/div/div/div/div[1]/div/div[1]/span\"\n",
    "        total_product_count = int(tree.xpath(total_product_count_xpath)[0].text)\n",
    "        for i in range(one_page_product_count):\n",
    "            i += 1\n",
    "            general_product_link_xpath = f\"/html/body/div[2]/div/div/main/div/div/div/div[2]/div/div[2]/div[2]/div/div/div[2]/div[4]/div/div[2]/div/div/div/div/div/div/ul/li[{i}]/div/a\"\n",
    "            general_product_link = tree.xpath(f\"{general_product_link_xpath}/@href\")\n",
    "\n",
    "            if general_product_link:\n",
    "                l = general_product_link[0].text if hasattr(general_product_link[0], 'text') else str(general_product_link[0])\n",
    "                links.append(l)\n",
    "        if total_product_count / 36 < page:\n",
    "            print(\"Last page executed.\")\n",
    "            break\n",
    "    link_price = dict(zip(links, prices))\n",
    "    data = {\n",
    "        \"time\": datetime.now().isoformat(),\n",
    "        \"name\": name,\n",
    "        \"link_price\": link_price}\n",
    "    print(data)\n",
    "    "
   ]
  },
  {
   "cell_type": "code",
   "execution_count": 50,
   "metadata": {},
   "outputs": [
    {
     "data": {
      "text/plain": [
       "{'time': '2024-11-29T01:43:17.774273',\n",
       " 'name': 'kolaysepet',\n",
       " 'link_price': {'/philips-azur-8000-serisi-buharli-utu-dst8050-20-pm-HBC000036RV14?magaza=Kolaysepet': '5.672,07',\n",
       "  '/philips-air-performer-8000-serisi-3-u-1-arada-hava-temizleyici-fan-ve-isitici-amf870-15-pm-HBC00003XU7MV?magaza=Kolaysepet': '19.799,10',\n",
       "  '/philips-gc026-80-tuy-temizleme-makinesi-pm-HBC00005P9DX3?magaza=Kolaysepet': '649,00',\n",
       "  '/philips-xc7040-01-speedpro-max-sarjli-dikey-supurge-pm-HBC00004BGZ14?magaza=Kolaysepet': '11.159,07',\n",
       "  '/philips-55pus8309-55-139-ekran-uydu-alicili-4k-ultra-hd-smart-led-tv-p-HBCV00006JWH9S?magaza=Kolaysepet': '21.971,25',\n",
       "  '/philips-xb9125-07-marathon-ultimate-toz-torbasiz-elektrikli-supurge-pm-HB00000O0KAY?magaza=Kolaysepet': '13.223,67',\n",
       "  '/fakir-inovator-x-7269-sarjli-dikey-supurge-turuncu-pm-HBC000022AAW5?magaza=Kolaysepet': '7.792,47',\n",
       "  '/philips-65pus8309-65-165-ekran-uydu-alicili-4k-ultra-hd-smart-led-tv-p-HBCV00006JWG11?magaza=Kolaysepet': '30.563,26',\n",
       "  '/philips-43pus8309-62-43-109-ekran-uydu-alicili-4k-ultra-hd-smart-led-tv-p-HBCV00006PSL62?magaza=Kolaysepet': '16.181,07',\n",
       "  '/philips-xu2000-10-2000-serisi-islak-kuru-moplu-robot-supurge-lacivert-pm-HBC00006X38F0?magaza=Kolaysepet': '20.665,53',\n",
       "  '/philips-50pus8309-50-127-ekran-uydu-alicili-4k-ultra-hd-smart-led-tv-p-HBCV00006JU3XD?magaza=Kolaysepet': '19.417,47',\n",
       "  '/philips-psg7040-10-perfectcare-buhar-kazanli-utu-pm-HBC00000PDHXJ?magaza=Kolaysepet': '10.699,00',\n",
       "  '/philips-xu3000-01-homerun-3000-serisi-aqua-siyah-akilli-robot-supurge-pm-HBC00004A9Q4U?magaza=Kolaysepet': '16.739,99',\n",
       "  '/philips-ac3420-10-pureprotect-water-3400-serisi-akilli-2-si-1-arada-hava-temizleyici-ve-nemlendirici-pm-HBC00007792MG?magaza=Kolaysepet': '19.149,00',\n",
       "  '/philips-perfect-care-buhar-kazanli-utu-gc8752-30-pm-HBC00004IUP1L?magaza=Kolaysepet': '5.899,00',\n",
       "  '/fakir-freelander-bl-6056-silverstone-toz-torbasiz-supurge-pm-HBC00000QRVHU?magaza=Kolaysepet': '4.270,56',\n",
       "  '/philips-7000-serisi-dst7040-80-siyah-gold-buharli-utu-pm-HBC00003XBZIP?magaza=Kolaysepet': '3.588,87',\n",
       "  '/fakir-torbasiz-supurge-veyron-pro-silverstone-pm-HBC000051W2GF?magaza=Kolaysepet': '5.312,16',\n",
       "  '/philips-performer-led-torbali-elektrikli-supurge-xd8122-10-pm-HBC00006OJZ9X?magaza=Kolaysepet': '8.573,67',\n",
       "  '/philips-fym860-30-nano-koruma-filtre-amf870-uyumlu-pm-HBC00004Y0RSD?magaza=Kolaysepet': '3.491,10',\n",
       "  '/fakir-vacuumpro-toz-torbasiz-supurge-pm-HBC000069KXO7?magaza=Kolaysepet': '11.104,20',\n",
       "  '/philips-perfectcare-6000-series-psg6026-20-2400-w-buhar-kazanli-utu-pm-HBC00003ZL0G3?magaza=Kolaysepet': '7.373,97',\n",
       "  '/fakir-veyron-pro-toz-torbasiz-supurge-mat-rose-pm-HBC00004Y573J?magaza=Kolaysepet': '5.312,16',\n",
       "  '/evin-new-rose-104-utu-masasi-pm-HBC00003P4NBH?magaza=Kolaysepet': '1.999,00',\n",
       "  '/lady-sarayli-diva-utu-masasi-pm-HB00000M2G6B?magaza=Kolaysepet': '1.999,00',\n",
       "  '/philips-amf870-15-3-u-1-arada-hava-temizleyici-fan-ve-isitici-philips-fym860-30-nano-koruma-filtre-hediyeli-pm-HBC00006OJZ9Z?magaza=Kolaysepet': '23.399,10',\n",
       "  '/philips-homerun-2000-serisi-aqua-akilli-robot-supurge-xu2000-10-4-adet-xv1430-00-mop-hediyeli-pm-HBC000070WK6M?magaza=Kolaysepet': '16.832,07'}}"
      ]
     },
     "execution_count": 50,
     "metadata": {},
     "output_type": "execute_result"
    }
   ],
   "source": [
    "data"
   ]
  }
 ],
 "metadata": {
  "kernelspec": {
   "display_name": "scraping",
   "language": "python",
   "name": "python3"
  },
  "language_info": {
   "codemirror_mode": {
    "name": "ipython",
    "version": 3
   },
   "file_extension": ".py",
   "mimetype": "text/x-python",
   "name": "python",
   "nbconvert_exporter": "python",
   "pygments_lexer": "ipython3",
   "version": "3.11.0"
  }
 },
 "nbformat": 4,
 "nbformat_minor": 2
}
